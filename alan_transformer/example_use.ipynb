{
 "cells": [
  {
   "attachments": {},
   "cell_type": "markdown",
   "metadata": {},
   "source": [
    "# Example use"
   ]
  },
  {
   "attachments": {},
   "cell_type": "markdown",
   "metadata": {},
   "source": [
    "## Setup & Imports"
   ]
  },
  {
   "cell_type": "code",
   "execution_count": null,
   "metadata": {},
   "outputs": [],
   "source": [
    "# Enable python import reloading\n",
    "%load_ext autoreload\n",
    "%autoreload 2"
   ]
  },
  {
   "cell_type": "code",
   "execution_count": 2,
   "metadata": {},
   "outputs": [
    {
     "name": "stderr",
     "output_type": "stream",
     "text": [
      "/workspaces/transformer-from-scratch/.venv/lib/python3.9/site-packages/tqdm/auto.py:22: TqdmWarning: IProgress not found. Please update jupyter and ipywidgets. See https://ipywidgets.readthedocs.io/en/stable/user_install.html\n",
      "  from .autonotebook import tqdm as notebook_tqdm\n"
     ]
    }
   ],
   "source": [
    "from torchtext.datasets import WikiText2\n",
    "from torchtext.data.utils import get_tokenizer\n",
    "from torch.utils.data import DataLoader\n",
    "from torchtext.vocab import build_vocab_from_iterator\n",
    "import math\n",
    "import urllib\n",
    "from typing import Tuple\n",
    "from pathlib import Path\n",
    "from transformers import GPTNeoXTokenizerFast\n",
    "from datasets import load_dataset, Dataset, load_from_disk\n",
    "\n",
    "\n",
    "import torch\n",
    "from torch import nn, Tensor\n",
    "import torch.nn.functional as F\n",
    "from torch.nn import TransformerEncoder, TransformerEncoderLayer\n",
    "from torch.utils.data import dataset\n",
    "\n",
    "from alan_transformer.transformer import Transformer\n",
    "from alan_transformer.train import train_loop"
   ]
  },
  {
   "attachments": {},
   "cell_type": "markdown",
   "metadata": {},
   "source": [
    "## Task: Complete Works of Shakespeare"
   ]
  },
  {
   "attachments": {},
   "cell_type": "markdown",
   "metadata": {},
   "source": [
    "### Get the dataset"
   ]
  },
  {
   "cell_type": "code",
   "execution_count": 26,
   "metadata": {},
   "outputs": [
    {
     "name": "stderr",
     "output_type": "stream",
     "text": [
      "Using custom data configuration default-0fb7688fd30e1ad5\n"
     ]
    },
    {
     "name": "stdout",
     "output_type": "stream",
     "text": [
      "Downloading and preparing dataset text/default to /home/user/.cache/huggingface/datasets/text/default-0fb7688fd30e1ad5/0.0.0/cb1e9bd71a82ad27976be3b12b407850fe2837d80c22c5e03a28949843a8ace2...\n"
     ]
    },
    {
     "name": "stderr",
     "output_type": "stream",
     "text": [
      "Downloading data files: 100%|██████████| 1/1 [00:00<00:00, 5461.33it/s]\n",
      "Extracting data files: 100%|██████████| 1/1 [00:00<00:00, 1011.89it/s]\n",
      "                                                                      \r"
     ]
    },
    {
     "name": "stdout",
     "output_type": "stream",
     "text": [
      "Dataset text downloaded and prepared to /home/user/.cache/huggingface/datasets/text/default-0fb7688fd30e1ad5/0.0.0/cb1e9bd71a82ad27976be3b12b407850fe2837d80c22c5e03a28949843a8ace2. Subsequent calls will reuse this data.\n"
     ]
    },
    {
     "name": "stderr",
     "output_type": "stream",
     "text": [
      "100%|██████████| 1/1 [00:00<00:00, 329.92it/s]\n",
      "100%|██████████| 172423/172423 [01:33<00:00, 1849.96ex/s]\n",
      "                                                                                                   \r"
     ]
    }
   ],
   "source": [
    "def create_dataset(data_dir = Path(\".data\"), load_if_exists: bool = True) -> Dataset:\n",
    "    # Return the dataset from disk if it already exists\n",
    "    dataset_path = data_dir / \"shakespeare_dataset\"\n",
    "    if dataset_path.exists() and load_if_exists:\n",
    "        return load_from_disk(dataset_path)\n",
    "    \n",
    "    # Download text file\n",
    "    data_dir = Path(\".data\")\n",
    "    data_dir.mkdir(parents=True, exist_ok=True)\n",
    "    data_path = data_dir / \"shakespeare.txt\"\n",
    "    data_url = \"https://www.gutenberg.org/files/100/100-0.txt\"\n",
    "    urllib.request.urlretrieve(data_url, data_path)\n",
    "\n",
    "    # Load as a dataset\n",
    "    raw_dataset = load_dataset(\"text\", data_files=str(data_path))\n",
    "\n",
    "    # Tokenize it\n",
    "    tokenizer = GPTNeoXTokenizerFast.from_pretrained(\"EleutherAI/gpt-neox-20b\", pad_token = \"<|endoftext|>\")\n",
    "    tokenized_dataset = raw_dataset.map(\n",
    "            lambda examples: tokenizer(\n",
    "                examples[\"text\"], \n",
    "                padding=\"max_length\", # Pad to the max length\n",
    "                truncation=True, # Truncate to the max length\n",
    "                max_length=1024, # 1024 is the default max length for our transformer,\n",
    "                is_split_into_words=False,\n",
    "                return_tensors=\"pt\" # Return a pytorch tensor per prompt\n",
    "            )\n",
    "        )\n",
    "\n",
    "    # Save the dataset\n",
    "    tokenized_dataset.save_to_disk(dataset_path)\n",
    "    \n",
    "    # Return the dataset\n",
    "    return tokenized_dataset\n",
    "\n",
    "dataset = create_dataset(load_if_exists = False)\n",
    "\n",
    "# dataloader = DataLoader(dataset[\"train\"], batch_size=8, shuffle=True)"
   ]
  },
  {
   "cell_type": "code",
   "execution_count": 2,
   "metadata": {},
   "outputs": [
    {
     "ename": "NameError",
     "evalue": "name 'DataLoader' is not defined",
     "output_type": "error",
     "traceback": [
      "\u001b[0;31m---------------------------------------------------------------------------\u001b[0m",
      "\u001b[0;31mNameError\u001b[0m                                 Traceback (most recent call last)",
      "Cell \u001b[0;32mIn[2], line 1\u001b[0m\n\u001b[0;32m----> 1\u001b[0m \u001b[39mnext\u001b[39m(\u001b[39miter\u001b[39m(DataLoader(dataset[\u001b[39m\"\u001b[39m\u001b[39mtrain\u001b[39m\u001b[39m\"\u001b[39m], batch_size\u001b[39m=\u001b[39m\u001b[39m8\u001b[39m, shuffle\u001b[39m=\u001b[39m\u001b[39mTrue\u001b[39;00m)))\n",
      "\u001b[0;31mNameError\u001b[0m: name 'DataLoader' is not defined"
     ]
    }
   ],
   "source": [
    "next(iter(DataLoader(dataset[\"train\"], batch_size=8, shuffle=True)))"
   ]
  },
  {
   "cell_type": "code",
   "execution_count": 12,
   "metadata": {},
   "outputs": [
    {
     "data": {
      "text/plain": [
       "tensor([50274,  1552,  5093,  ...,     0,     0,     0])"
      ]
     },
     "execution_count": 12,
     "metadata": {},
     "output_type": "execute_result"
    }
   ],
   "source": [
    "tokenizer = GPTNeoXTokenizerFast.from_pretrained(\"EleutherAI/gpt-neox-20b\", pad_token = \"<|endoftext|>\")\n",
    "\n",
    "text = ['    This seven years did not Talbot see his son;',\n",
    " '',\n",
    " '',\n",
    " 'CLOWN.',\n",
    " \"    Freshly on me. 'Tis surely for a name.\",\n",
    " 'Till thou the lie-giver and that lie do lie',\n",
    " 'Apt to be render’d, for someone to say,',\n",
    " 'think thee an honest man; thou shouldst neither want my means for thy']\n",
    "\n",
    "res = tokenizer(\n",
    "                text, \n",
    "                padding=\"max_length\", # Pad to the max length\n",
    "                truncation=True, # Truncate to the max length\n",
    "                max_length=1024, # 1024 is the default max length for our transformer,\n",
    "                is_split_into_words=False,\n",
    "                return_tensors=\"pt\"\n",
    "            )\n",
    "\n",
    "res[\"input_ids\"][0]"
   ]
  },
  {
   "attachments": {},
   "cell_type": "markdown",
   "metadata": {},
   "source": [
    "### Run the training loop"
   ]
  },
  {
   "cell_type": "code",
   "execution_count": 1,
   "metadata": {},
   "outputs": [
    {
     "name": "stderr",
     "output_type": "stream",
     "text": [
      "\n",
      "KeyboardInterrupt\n",
      "\n"
     ]
    }
   ],
   "source": [
    "model = Transformer()\n",
    "\n",
    "train_loop(\n",
    "    model,\n",
    "    dataloader,\n",
    "    device=torch.device(\"cpu\")\n",
    ")"
   ]
  }
 ],
 "metadata": {
  "kernelspec": {
   "display_name": ".venv",
   "language": "python",
   "name": "python3"
  },
  "language_info": {
   "codemirror_mode": {
    "name": "ipython",
    "version": 3
   },
   "file_extension": ".py",
   "mimetype": "text/x-python",
   "name": "python",
   "nbconvert_exporter": "python",
   "pygments_lexer": "ipython3",
   "version": "3.9.5"
  },
  "orig_nbformat": 4,
  "vscode": {
   "interpreter": {
    "hash": "7170ace9464bb466e6bcefdcff5f012da7a27a0028bd76a80053362950fde506"
   }
  }
 },
 "nbformat": 4,
 "nbformat_minor": 2
}
