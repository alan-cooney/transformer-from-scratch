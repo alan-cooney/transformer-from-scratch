{
 "cells": [
  {
   "attachments": {},
   "cell_type": "markdown",
   "metadata": {},
   "source": [
    "# Example use"
   ]
  },
  {
   "attachments": {},
   "cell_type": "markdown",
   "metadata": {},
   "source": [
    "## Setup & Imports"
   ]
  },
  {
   "cell_type": "code",
   "execution_count": 3,
   "metadata": {},
   "outputs": [
    {
     "name": "stdout",
     "output_type": "stream",
     "text": [
      "The autoreload extension is already loaded. To reload it, use:\n",
      "  %reload_ext autoreload\n"
     ]
    }
   ],
   "source": [
    "# Enable python import reloading\n",
    "%load_ext autoreload\n",
    "%autoreload 2"
   ]
  },
  {
   "cell_type": "code",
   "execution_count": 4,
   "metadata": {},
   "outputs": [],
   "source": [
    "from torchtext.datasets import WikiText2\n",
    "from torchtext.data.utils import get_tokenizer\n",
    "from torchtext.vocab import build_vocab_from_iterator\n",
    "import math\n",
    "import urllib\n",
    "from typing import Tuple\n",
    "from pathlib import Path\n",
    "from transformers import GPTNeoXTokenizerFast\n",
    "from datasets import load_dataset\n",
    "\n",
    "\n",
    "import torch\n",
    "from torch import nn, Tensor\n",
    "import torch.nn.functional as F\n",
    "from torch.nn import TransformerEncoder, TransformerEncoderLayer\n",
    "from torch.utils.data import dataset\n",
    "\n",
    "from alan_transformer.transformer import Transformer\n",
    "from alan_transformer.train import train_loop"
   ]
  },
  {
   "attachments": {},
   "cell_type": "markdown",
   "metadata": {},
   "source": [
    "## Task: Induction Heads"
   ]
  },
  {
   "attachments": {},
   "cell_type": "markdown",
   "metadata": {},
   "source": [
    "The steps are:\n",
    "\n",
    "- Download text file from https://www.gutenberg.org/files/100/100-0.txt\n",
    "- Tokenize it\n",
    "- Break up into prompts, where each prompt is size 1024 + answer\n",
    "  prompt is the same size (but with a token offset of 1).\n",
    "- One-hot-encode these\n",
    "- Group prompts into batches\n",
    "- Initialise model\n",
    "- Run train loop - noting that we need to optimise based on all answers."
   ]
  },
  {
   "attachments": {},
   "cell_type": "markdown",
   "metadata": {},
   "source": [
    "We'll give the model a dataset with examples of tokens that are repeated (e.g.\n",
    "\" a b c a b c\"). The sequence will be random tokens. We can then test if the\n",
    "model has learnt induction heads (so that it can do \" a b c a\" -> \" b\")."
   ]
  },
  {
   "attachments": {},
   "cell_type": "markdown",
   "metadata": {},
   "source": [
    "### Create the dataset"
   ]
  },
  {
   "attachments": {},
   "cell_type": "markdown",
   "metadata": {},
   "source": [
    "## Task: Complete Works of Shakespeare"
   ]
  },
  {
   "cell_type": "code",
   "execution_count": 16,
   "metadata": {},
   "outputs": [
    {
     "name": "stderr",
     "output_type": "stream",
     "text": [
      "Using custom data configuration default-9d75120557a0bbf5\n"
     ]
    },
    {
     "name": "stdout",
     "output_type": "stream",
     "text": [
      "Downloading and preparing dataset text/default to /home/user/.cache/huggingface/datasets/text/default-9d75120557a0bbf5/0.0.0/cb1e9bd71a82ad27976be3b12b407850fe2837d80c22c5e03a28949843a8ace2...\n"
     ]
    },
    {
     "name": "stderr",
     "output_type": "stream",
     "text": [
      "Downloading data files: 100%|██████████| 1/1 [00:00<00:00, 2481.84it/s]\n",
      "Extracting data files: 100%|██████████| 1/1 [00:00<00:00, 809.71it/s]\n",
      "                                                                     \r"
     ]
    },
    {
     "name": "stdout",
     "output_type": "stream",
     "text": [
      "Dataset text downloaded and prepared to /home/user/.cache/huggingface/datasets/text/default-9d75120557a0bbf5/0.0.0/cb1e9bd71a82ad27976be3b12b407850fe2837d80c22c5e03a28949843a8ace2. Subsequent calls will reuse this data.\n"
     ]
    },
    {
     "name": "stderr",
     "output_type": "stream",
     "text": [
      "100%|██████████| 1/1 [00:00<00:00, 281.70it/s]\n"
     ]
    }
   ],
   "source": [
    "# Download text file\n",
    "data_dir = Path(\".data\")\n",
    "data_dir.mkdir(parents=True, exist_ok=True)\n",
    "data_path = data_dir / \"shakespeare.txt\"\n",
    "data_url = \"https://www.gutenberg.org/files/100/100-0.txt\"\n",
    "urllib.request.urlretrieve(data_url, data_path)\n",
    "\n",
    "# Load as a dataset\n",
    "dataset = load_dataset(\"text\", data_files=str(data_path))"
   ]
  },
  {
   "cell_type": "code",
   "execution_count": 29,
   "metadata": {},
   "outputs": [
    {
     "name": "stderr",
     "output_type": "stream",
     "text": [
      " 82%|████████▏ | 142/173 [01:01<00:13,  2.27ba/s]"
     ]
    }
   ],
   "source": [
    "# Tokenize it\n",
    "tokenizer = GPTNeoXTokenizerFast.from_pretrained(\"EleutherAI/gpt-neox-20b\", pad_token = \"<|endoftext|>\")\n",
    "dataset = dataset.map(\n",
    "    lambda examples: tokenizer(\n",
    "        examples[\"text\"], \n",
    "        padding=\"max_length\", # Pad to the max length\n",
    "        truncation=True, # Truncate to the max length\n",
    "        max_length=1024 # 1024 is the default max length for our transformer\n",
    "    ),\n",
    "    batched=True)"
   ]
  },
  {
   "cell_type": "code",
   "execution_count": null,
   "metadata": {},
   "outputs": [
    {
     "data": {
      "text/plain": [
       "[9846,\n",
       " 452,\n",
       " 281,\n",
       " 2451,\n",
       " 253,\n",
       " 5323,\n",
       " 273,\n",
       " 253,\n",
       " 2586,\n",
       " 835,\n",
       " 368,\n",
       " 403,\n",
       " 4441,\n",
       " 1078,\n",
       " 0,\n",
       " 0,\n",
       " 0,\n",
       " 0,\n",
       " 0,\n",
       " 0,\n",
       " 0,\n",
       " 0,\n",
       " 0,\n",
       " 0,\n",
       " 0,\n",
       " 0,\n",
       " 0,\n",
       " 0]"
      ]
     },
     "execution_count": 28,
     "metadata": {},
     "output_type": "execute_result"
    }
   ],
   "source": [
    "len(dataset['train'][0][\"input_ids\"])"
   ]
  }
 ],
 "metadata": {
  "kernelspec": {
   "display_name": ".venv",
   "language": "python",
   "name": "python3"
  },
  "language_info": {
   "codemirror_mode": {
    "name": "ipython",
    "version": 3
   },
   "file_extension": ".py",
   "mimetype": "text/x-python",
   "name": "python",
   "nbconvert_exporter": "python",
   "pygments_lexer": "ipython3",
   "version": "3.9.5"
  },
  "orig_nbformat": 4,
  "vscode": {
   "interpreter": {
    "hash": "7170ace9464bb466e6bcefdcff5f012da7a27a0028bd76a80053362950fde506"
   }
  }
 },
 "nbformat": 4,
 "nbformat_minor": 2
}
