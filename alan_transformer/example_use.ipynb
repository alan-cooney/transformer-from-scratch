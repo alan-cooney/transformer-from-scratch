{
 "cells": [
  {
   "attachments": {},
   "cell_type": "markdown",
   "metadata": {},
   "source": [
    "# Example use"
   ]
  },
  {
   "attachments": {},
   "cell_type": "markdown",
   "metadata": {},
   "source": [
    "## Setup & Imports"
   ]
  },
  {
   "cell_type": "code",
   "execution_count": null,
   "metadata": {},
   "outputs": [],
   "source": [
    "# Enable python import reloading\n",
    "%load_ext autoreload\n",
    "%autoreload 2"
   ]
  },
  {
   "cell_type": "code",
   "execution_count": null,
   "metadata": {},
   "outputs": [],
   "source": [
    "from torchtext.datasets import WikiText2\n",
    "from torchtext.data.utils import get_tokenizer\n",
    "from torch.utils.data import DataLoader\n",
    "from torchtext.vocab import build_vocab_from_iterator\n",
    "import math\n",
    "import urllib\n",
    "from typing import Tuple\n",
    "from pathlib import Path\n",
    "from transformers import GPTNeoXTokenizerFast\n",
    "from datasets import load_dataset\n",
    "\n",
    "\n",
    "import torch\n",
    "from torch import nn, Tensor\n",
    "import torch.nn.functional as F\n",
    "from torch.nn import TransformerEncoder, TransformerEncoderLayer\n",
    "from torch.utils.data import dataset\n",
    "\n",
    "from alan_transformer.transformer import Transformer\n",
    "from alan_transformer.train import train_loop"
   ]
  },
  {
   "attachments": {},
   "cell_type": "markdown",
   "metadata": {},
   "source": [
    "## Task: Complete Works of Shakespeare"
   ]
  },
  {
   "attachments": {},
   "cell_type": "markdown",
   "metadata": {},
   "source": [
    "The steps are:\n",
    "\n",
    "- Download text file from https://www.gutenberg.org/files/100/100-0.txt\n",
    "- Tokenize it\n",
    "- Break up into prompts, where each prompt is size 1024 + answer\n",
    "  prompt is the same size (but with a token offset of 1).\n",
    "- One-hot-encode these\n",
    "- Group prompts into batches\n",
    "- Initialise model\n",
    "- Run train loop - noting that we need to optimise based on all answers."
   ]
  },
  {
   "cell_type": "code",
   "execution_count": null,
   "metadata": {},
   "outputs": [],
   "source": [
    "# Download text file\n",
    "data_dir = Path(\".data\")\n",
    "data_dir.mkdir(parents=True, exist_ok=True)\n",
    "data_path = data_dir / \"shakespeare.txt\"\n",
    "data_url = \"https://www.gutenberg.org/files/100/100-0.txt\"\n",
    "urllib.request.urlretrieve(data_url, data_path)\n",
    "\n",
    "# Load as a dataset\n",
    "dataset = load_dataset(\"text\", data_files=str(data_path))"
   ]
  },
  {
   "cell_type": "code",
   "execution_count": null,
   "metadata": {},
   "outputs": [],
   "source": [
    "# Tokenize it\n",
    "tokenizer = GPTNeoXTokenizerFast.from_pretrained(\"EleutherAI/gpt-neox-20b\", pad_token = \"<|endoftext|>\")\n",
    "tokenized_dataset = dataset.map(\n",
    "    lambda examples: tokenizer(\n",
    "        examples[\"text\"], \n",
    "        padding=\"max_length\", # Pad to the max length\n",
    "        truncation=True, # Truncate to the max length\n",
    "        max_length=1024 # 1024 is the default max length for our transformer\n",
    "    ),\n",
    "    batched=True)"
   ]
  },
  {
   "cell_type": "code",
   "execution_count": null,
   "metadata": {},
   "outputs": [],
   "source": [
    "dataloader = DataLoader(tokenized_dataset[\"train\"], batch_size=8, shuffle=True)\n",
    "f\"Number of batches: {len(dataloader)}\""
   ]
  },
  {
   "cell_type": "code",
   "execution_count": null,
   "metadata": {},
   "outputs": [],
   "source": [
    "model = Transformer()"
   ]
  },
  {
   "cell_type": "code",
   "execution_count": null,
   "metadata": {},
   "outputs": [],
   "source": [
    "torch.cuda.is_available()"
   ]
  },
  {
   "cell_type": "code",
   "execution_count": null,
   "metadata": {},
   "outputs": [],
   "source": [
    "train_loop(\n",
    "    model,\n",
    "    dataloader\n",
    ")\n"
   ]
  }
 ],
 "metadata": {
  "kernelspec": {
   "display_name": ".venv",
   "language": "python",
   "name": "python3"
  },
  "language_info": {
   "codemirror_mode": {
    "name": "ipython",
    "version": 3
   },
   "file_extension": ".py",
   "mimetype": "text/x-python",
   "name": "python",
   "nbconvert_exporter": "python",
   "pygments_lexer": "ipython3",
   "version": "3.9.5"
  },
  "orig_nbformat": 4,
  "vscode": {
   "interpreter": {
    "hash": "7170ace9464bb466e6bcefdcff5f012da7a27a0028bd76a80053362950fde506"
   }
  }
 },
 "nbformat": 4,
 "nbformat_minor": 2
}
